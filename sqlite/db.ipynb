{
 "cells": [
  {
   "cell_type": "code",
   "execution_count": 1,
   "metadata": {},
   "outputs": [],
   "source": [
    "import sqlite3"
   ]
  },
  {
   "cell_type": "code",
   "execution_count": 7,
   "metadata": {},
   "outputs": [
    {
     "name": "stdout",
     "output_type": "stream",
     "text": [
      "<sqlite3.Connection object at 0x10d295e40>\n"
     ]
    }
   ],
   "source": [
    "# creating connection\n",
    "\n",
    "connection = sqlite3.connect(\"example.db\")\n",
    "connection"
   ]
  },
  {
   "cell_type": "code",
   "execution_count": 6,
   "metadata": {},
   "outputs": [
    {
     "data": {
      "text/plain": [
       "<sqlite3.Cursor at 0x10d128840>"
      ]
     },
     "execution_count": 6,
     "metadata": {},
     "output_type": "execute_result"
    }
   ],
   "source": [
    "# creating cursor\n",
    "\n",
    "cursor = connection.cursor()"
   ]
  },
  {
   "cell_type": "code",
   "execution_count": 8,
   "metadata": {},
   "outputs": [],
   "source": [
    "# creating employee table\n",
    "cursor.execute(\n",
    "    \"\"\"Create Table If Not Exists employee ( id Integer Primary Key, name Text Not Null, age Integer, department Text)\"\"\"\n",
    ")\n",
    "\n",
    "# commiting the changes\n",
    "\n",
    "connection.commit()"
   ]
  },
  {
   "cell_type": "code",
   "execution_count": 9,
   "metadata": {},
   "outputs": [
    {
     "data": {
      "text/plain": [
       "<sqlite3.Cursor at 0x10d128840>"
      ]
     },
     "execution_count": 9,
     "metadata": {},
     "output_type": "execute_result"
    }
   ],
   "source": [
    "cursor.execute(\"\"\"Select * from employee\"\"\")"
   ]
  },
  {
   "cell_type": "code",
   "execution_count": 10,
   "metadata": {},
   "outputs": [],
   "source": [
    "# inserting data into the table\n",
    "\n",
    "cursor.execute(\n",
    "    \"\"\" \n",
    "Insert into employee (name,age,department) values(\"Prem\",22,\"Data scientist\")\n",
    "\"\"\"\n",
    ")\n",
    "\n",
    "\n",
    "cursor.execute(\n",
    "    \"\"\" \n",
    "Insert into employee (name,age,department) values(\"Peter Parker\",22,\"Spider Man\")\n",
    "\"\"\"\n",
    ")\n",
    "\n",
    "# commit the changes\n",
    "connection.commit()"
   ]
  },
  {
   "cell_type": "code",
   "execution_count": 11,
   "metadata": {},
   "outputs": [
    {
     "name": "stdout",
     "output_type": "stream",
     "text": [
      "(1, 'Prem', 22, 'Data scientist')\n",
      "(2, 'Peter Parker', 22, 'Spider Man')\n"
     ]
    }
   ],
   "source": [
    "cursor.execute(\"Select * from employee\")\n",
    "\n",
    "rows = cursor.fetchall()\n",
    "\n",
    "for row in rows:\n",
    "    print(row)"
   ]
  },
  {
   "cell_type": "code",
   "execution_count": 12,
   "metadata": {},
   "outputs": [],
   "source": [
    "# updating the records in the table\n",
    "\n",
    "cursor.execute(\n",
    "    \"\"\"\n",
    "Update employee Set age=23 where name=\"Prem\"\n",
    "\"\"\"\n",
    ")\n",
    "\n",
    "connection.commit()"
   ]
  },
  {
   "cell_type": "code",
   "execution_count": 13,
   "metadata": {},
   "outputs": [
    {
     "name": "stdout",
     "output_type": "stream",
     "text": [
      "(1, 'Prem', 23, 'Data scientist')\n",
      "(2, 'Peter Parker', 22, 'Spider Man')\n"
     ]
    }
   ],
   "source": [
    "cursor.execute(\"select * from employee\")\n",
    "\n",
    "rows = cursor.fetchall()\n",
    "\n",
    "for row in rows:\n",
    "    print(row)"
   ]
  },
  {
   "cell_type": "code",
   "execution_count": 15,
   "metadata": {},
   "outputs": [],
   "source": [
    "# deleting a record from table\n",
    "cursor.execute(\n",
    "    \"\"\"\n",
    "Delete from employee where name=\"Prem\"\n",
    "\"\"\"\n",
    ")\n",
    "\n",
    "# commiting the changes\n",
    "connection.commit()"
   ]
  },
  {
   "cell_type": "code",
   "execution_count": 16,
   "metadata": {},
   "outputs": [
    {
     "name": "stdout",
     "output_type": "stream",
     "text": [
      "(2, 'Peter Parker', 22, 'Spider Man')\n"
     ]
    }
   ],
   "source": [
    "cursor.execute(\"select * from employee\")\n",
    "\n",
    "rows = cursor.fetchall()\n",
    "\n",
    "for row in rows:\n",
    "    print(row)"
   ]
  },
  {
   "cell_type": "code",
   "execution_count": 29,
   "metadata": {},
   "outputs": [],
   "source": [
    "connection.close()"
   ]
  },
  {
   "cell_type": "code",
   "execution_count": 30,
   "metadata": {},
   "outputs": [],
   "source": [
    "# creating sales data\n",
    "\n",
    "\n",
    "con = sqlite3.connect(\"sales.db\")"
   ]
  },
  {
   "cell_type": "code",
   "execution_count": 19,
   "metadata": {},
   "outputs": [],
   "source": [
    "cursor = con.cursor()"
   ]
  },
  {
   "cell_type": "code",
   "execution_count": 22,
   "metadata": {},
   "outputs": [
    {
     "data": {
      "text/plain": [
       "<sqlite3.Cursor at 0x10d315ec0>"
      ]
     },
     "execution_count": 22,
     "metadata": {},
     "output_type": "execute_result"
    }
   ],
   "source": [
    "# creating a sales table\n",
    "\n",
    "cursor.execute(\n",
    "    \"\"\"\n",
    "Create Table If Not Exists sales(\n",
    "    id Integer Primary Key,\n",
    "    date Text Not Null,\n",
    "    product Text Not Null,\n",
    "    sales Integer,\n",
    "    region Text\n",
    "    )\n",
    "\"\"\"\n",
    ")"
   ]
  },
  {
   "cell_type": "code",
   "execution_count": 25,
   "metadata": {},
   "outputs": [],
   "source": [
    "sales_data = [\n",
    "    (\"2024-10-06\", \"Iphone 16 pro\", 1, \"India\"),\n",
    "    (\"2024-10-06\", \"Iphone Cases\", 1, \"India\"),\n",
    "    (\"2023-10-06\", \"Iphone screen protector\", 1, \"India\"),\n",
    "]"
   ]
  },
  {
   "cell_type": "code",
   "execution_count": 26,
   "metadata": {},
   "outputs": [],
   "source": [
    "cursor.executemany(\n",
    "    \"\"\"\n",
    "insert into sales (date,product,sales,region) values (?,?,?,?)\n",
    "\"\"\",\n",
    "    sales_data,\n",
    ")\n",
    "\n",
    "con.commit()"
   ]
  },
  {
   "cell_type": "code",
   "execution_count": 28,
   "metadata": {},
   "outputs": [
    {
     "name": "stdout",
     "output_type": "stream",
     "text": [
      "(1, '2024-10-06', 'Iphone 16 pro', 1, 'India')\n",
      "(2, '2024-10-06', 'Iphone Cases', 1, 'India')\n",
      "(3, '2023-10-06', 'Iphone screen protector', 1, 'India')\n"
     ]
    }
   ],
   "source": [
    "cursor.execute(\"select * from sales\")\n",
    "\n",
    "rows = cursor.fetchall()\n",
    "for row in rows:\n",
    "    print(row)"
   ]
  },
  {
   "cell_type": "code",
   "execution_count": 31,
   "metadata": {},
   "outputs": [],
   "source": [
    "con.close()"
   ]
  },
  {
   "cell_type": "code",
   "execution_count": null,
   "metadata": {},
   "outputs": [],
   "source": []
  }
 ],
 "metadata": {
  "kernelspec": {
   "display_name": "machine_learning",
   "language": "python",
   "name": "python3"
  },
  "language_info": {
   "codemirror_mode": {
    "name": "ipython",
    "version": 3
   },
   "file_extension": ".py",
   "mimetype": "text/x-python",
   "name": "python",
   "nbconvert_exporter": "python",
   "pygments_lexer": "ipython3",
   "version": "3.12.5"
  }
 },
 "nbformat": 4,
 "nbformat_minor": 2
}
